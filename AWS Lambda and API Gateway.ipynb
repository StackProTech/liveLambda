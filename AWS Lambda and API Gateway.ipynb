{
 "cells": [
  {
   "cell_type": "code",
   "execution_count": null,
   "metadata": {},
   "outputs": [],
   "source": [
    "import boto3"
   ]
  },
  {
   "cell_type": "code",
   "execution_count": null,
   "metadata": {},
   "outputs": [],
   "source": [
    "dir(boto3)"
   ]
  },
  {
   "cell_type": "code",
   "execution_count": 20,
   "metadata": {},
   "outputs": [],
   "source": [
    "client = boto3.client('lambda')"
   ]
  },
  {
   "cell_type": "code",
   "execution_count": null,
   "metadata": {},
   "outputs": [],
   "source": [
    "dir(client)"
   ]
  },
  {
   "cell_type": "code",
   "execution_count": 21,
   "metadata": {},
   "outputs": [
    {
     "name": "stdout",
     "output_type": "stream",
     "text": [
      " app.py                              liveLambda_v2.py\r\n",
      " app_V2.py                           \u001b[0m\u001b[01;31mliveLambda.zip\u001b[0m\r\n",
      "'AWS Lambda and API Gateway.ipynb'   \u001b[01;34m__pycache__\u001b[0m/\r\n",
      " config.json                         \u001b[01;34mpymysql\u001b[0m/\r\n",
      " dummy_event.py                      \u001b[01;34mPyMySQL-1.0.2.dist-info\u001b[0m/\r\n",
      " liveLambda.py                       README.md\r\n"
     ]
    }
   ],
   "source": [
    "ls"
   ]
  },
  {
   "cell_type": "code",
   "execution_count": 22,
   "metadata": {},
   "outputs": [],
   "source": [
    "import base64"
   ]
  },
  {
   "cell_type": "code",
   "execution_count": 23,
   "metadata": {},
   "outputs": [],
   "source": [
    "file = open('./liveLambda.zip', 'rb')\n",
    "file = file.read()"
   ]
  },
  {
   "cell_type": "code",
   "execution_count": 24,
   "metadata": {},
   "outputs": [],
   "source": [
    "arn = 'arn:aws:iam::734310663973:role/lambda_role'\n",
    "lambdaClient = client.create_function(FunctionName='testing_funtion', Runtime='python3.8', Role=arn, Handler='lambda_function.lambda_handler', Code={'ZipFile' : file}, Publish=True, PackageType='Zip')"
   ]
  },
  {
   "cell_type": "code",
   "execution_count": 25,
   "metadata": {},
   "outputs": [
    {
     "data": {
      "text/plain": [
       "{'ResponseMetadata': {'RequestId': 'e551dae8-ca68-47d2-93da-b114408559a3',\n",
       "  'HTTPStatusCode': 201,\n",
       "  'HTTPHeaders': {'date': 'Thu, 20 May 2021 07:47:08 GMT',\n",
       "   'content-type': 'application/json',\n",
       "   'content-length': '894',\n",
       "   'connection': 'keep-alive',\n",
       "   'x-amzn-requestid': 'e551dae8-ca68-47d2-93da-b114408559a3'},\n",
       "  'RetryAttempts': 0},\n",
       " 'FunctionName': 'testing_funtion',\n",
       " 'FunctionArn': 'arn:aws:lambda:ap-south-1:734310663973:function:testing_funtion',\n",
       " 'Runtime': 'python3.8',\n",
       " 'Role': 'arn:aws:iam::734310663973:role/lambda_role',\n",
       " 'Handler': 'lambda_function.lambda_handler',\n",
       " 'CodeSize': 106915,\n",
       " 'Description': '',\n",
       " 'Timeout': 3,\n",
       " 'MemorySize': 128,\n",
       " 'LastModified': '2021-05-20T07:47:08.288+0000',\n",
       " 'CodeSha256': 'wQhINELzjizt1iYBnnf7X77aP/i2G3LJncggUwT/rYI=',\n",
       " 'Version': '3',\n",
       " 'TracingConfig': {'Mode': 'PassThrough'},\n",
       " 'RevisionId': 'a58d4c75-811e-419e-8e9f-096c82fce5e1',\n",
       " 'State': 'Active',\n",
       " 'LastUpdateStatus': 'Successful',\n",
       " 'PackageType': 'Zip'}"
      ]
     },
     "execution_count": 25,
     "metadata": {},
     "output_type": "execute_result"
    }
   ],
   "source": [
    "lambdaClient"
   ]
  },
  {
   "cell_type": "code",
   "execution_count": null,
   "metadata": {},
   "outputs": [],
   "source": [
    "response = client.invoke(FunctionName='testing_funtion', InvocationType='RequestResponse', LogType='Tail')"
   ]
  },
  {
   "cell_type": "code",
   "execution_count": null,
   "metadata": {},
   "outputs": [],
   "source": [
    "response"
   ]
  },
  {
   "cell_type": "code",
   "execution_count": null,
   "metadata": {},
   "outputs": [],
   "source": [
    "response['Payload'].read()"
   ]
  },
  {
   "cell_type": "code",
   "execution_count": null,
   "metadata": {},
   "outputs": [],
   "source": [
    "base64.b64decode(response['LogResult'])"
   ]
  },
  {
   "cell_type": "code",
   "execution_count": null,
   "metadata": {},
   "outputs": [],
   "source": []
  },
  {
   "cell_type": "code",
   "execution_count": null,
   "metadata": {},
   "outputs": [],
   "source": [
    "gateway_client = boto3.client('apigateway')"
   ]
  },
  {
   "cell_type": "code",
   "execution_count": null,
   "metadata": {},
   "outputs": [],
   "source": [
    "gateway_client.get_rest_apis()"
   ]
  },
  {
   "cell_type": "code",
   "execution_count": null,
   "metadata": {},
   "outputs": [],
   "source": [
    "client = boto3.client('apigateway')"
   ]
  },
  {
   "cell_type": "code",
   "execution_count": null,
   "metadata": {},
   "outputs": [],
   "source": []
  },
  {
   "cell_type": "code",
   "execution_count": 26,
   "metadata": {},
   "outputs": [],
   "source": [
    "import boto3"
   ]
  },
  {
   "cell_type": "code",
   "execution_count": 32,
   "metadata": {},
   "outputs": [],
   "source": [
    "api_gateway_client = boto3.client('apigatewayv2')\n",
    "role_arn = \"arn:aws:iam::734310663973:role/api_gateway_role\"\n",
    "function_arn = \"arn:aws:lambda:ap-south-1:734310663973:function:writups_central_lambda\""
   ]
  },
  {
   "cell_type": "code",
   "execution_count": 44,
   "metadata": {},
   "outputs": [
    {
     "data": {
      "text/plain": [
       "{'ResponseMetadata': {'RequestId': 'cb46feea-e84e-4a0e-b332-5e4bad72b273',\n",
       "  'HTTPStatusCode': 201,\n",
       "  'HTTPHeaders': {'date': 'Thu, 20 May 2021 08:52:34 GMT',\n",
       "   'content-type': 'application/json',\n",
       "   'content-length': '323',\n",
       "   'connection': 'keep-alive',\n",
       "   'x-amzn-requestid': 'cb46feea-e84e-4a0e-b332-5e4bad72b273',\n",
       "   'access-control-allow-origin': '*',\n",
       "   'x-amz-apigw-id': 'fnp0zEbNBcwFkaw=',\n",
       "   'access-control-expose-headers': 'x-amzn-RequestId,x-amzn-ErrorType,x-amzn-ErrorMessage,Date',\n",
       "   'x-amzn-trace-id': 'Root=1-60a62351-5870fdd6200639e05ed575d0'},\n",
       "  'RetryAttempts': 0},\n",
       " 'ApiEndpoint': 'https://0qttlziple.execute-api.ap-south-1.amazonaws.com',\n",
       " 'ApiId': '0qttlziple',\n",
       " 'ApiKeySelectionExpression': '$request.header.x-api-key',\n",
       " 'CreatedDate': datetime.datetime(2021, 5, 20, 8, 52, 34, tzinfo=tzutc()),\n",
       " 'DisableExecuteApiEndpoint': False,\n",
       " 'Name': 'script_made',\n",
       " 'ProtocolType': 'HTTP',\n",
       " 'RouteSelectionExpression': '$request.method $request.path'}"
      ]
     },
     "execution_count": 44,
     "metadata": {},
     "output_type": "execute_result"
    }
   ],
   "source": [
    "api_gateway_client.create_api(Name=\"script_made\", ProtocolType=\"HTTP\", Target=function_arn, RouteKey=\"GET /\")"
   ]
  },
  {
   "cell_type": "code",
   "execution_count": 45,
   "metadata": {},
   "outputs": [
    {
     "data": {
      "text/plain": [
       "{'ResponseMetadata': {'RequestId': 'fd41ba83-07f8-4874-b7ae-e9af03ed8679',\n",
       "  'HTTPStatusCode': 201,\n",
       "  'HTTPHeaders': {'date': 'Thu, 20 May 2021 08:53:14 GMT',\n",
       "   'content-type': 'application/json',\n",
       "   'content-length': '254',\n",
       "   'connection': 'keep-alive',\n",
       "   'x-amzn-requestid': 'fd41ba83-07f8-4874-b7ae-e9af03ed8679',\n",
       "   'access-control-allow-origin': '*',\n",
       "   'x-amz-apigw-id': 'fnp7HEn_hcwFp7w=',\n",
       "   'access-control-expose-headers': 'x-amzn-RequestId,x-amzn-ErrorType,x-amzn-ErrorMessage,Date',\n",
       "   'x-amzn-trace-id': 'Root=1-60a6237a-5294883c01400def0a888e0e'},\n",
       "  'RetryAttempts': 0},\n",
       " 'ConnectionType': 'INTERNET',\n",
       " 'IntegrationId': '5d419ue',\n",
       " 'IntegrationMethod': 'GET',\n",
       " 'IntegrationType': 'AWS_PROXY',\n",
       " 'IntegrationUri': 'arn:aws:lambda:ap-south-1:734310663973:function:writups_central_lambda',\n",
       " 'PayloadFormatVersion': '2.0',\n",
       " 'TimeoutInMillis': 30000}"
      ]
     },
     "execution_count": 45,
     "metadata": {},
     "output_type": "execute_result"
    }
   ],
   "source": [
    "api_gateway_client.create_integration(ApiId=\"0qttlziple\", IntegrationMethod=\"GET\", IntegrationType=\"AWS_PROXY\", IntegrationUri=\"arn:aws:lambda:ap-south-1:734310663973:function:writups_central_lambda\", PayloadFormatVersion=\"2.0\")"
   ]
  },
  {
   "cell_type": "code",
   "execution_count": 46,
   "metadata": {},
   "outputs": [
    {
     "data": {
      "text/plain": [
       "{'ResponseMetadata': {'RequestId': 'a1c5d4b3-a7b1-4d92-8dec-24f239c2332f',\n",
       "  'HTTPStatusCode': 201,\n",
       "  'HTTPHeaders': {'date': 'Thu, 20 May 2021 08:53:57 GMT',\n",
       "   'content-type': 'application/json',\n",
       "   'content-length': '134',\n",
       "   'connection': 'keep-alive',\n",
       "   'x-amzn-requestid': 'a1c5d4b3-a7b1-4d92-8dec-24f239c2332f',\n",
       "   'access-control-allow-origin': '*',\n",
       "   'x-amz-apigw-id': 'fnqB2HSLhcwFdqw=',\n",
       "   'access-control-expose-headers': 'x-amzn-RequestId,x-amzn-ErrorType,x-amzn-ErrorMessage,Date',\n",
       "   'x-amzn-trace-id': 'Root=1-60a623a5-62409a7552aa39731c8617da'},\n",
       "  'RetryAttempts': 0},\n",
       " 'ApiKeyRequired': False,\n",
       " 'AuthorizationType': 'NONE',\n",
       " 'RouteId': '8lks6t5',\n",
       " 'RouteKey': 'POST /script/{id}',\n",
       " 'Target': 'integrations/5d419ue'}"
      ]
     },
     "execution_count": 46,
     "metadata": {},
     "output_type": "execute_result"
    }
   ],
   "source": [
    "api_gateway_client.create_route(ApiId=\"0qttlziple\", RouteKey=\"POST /script/{id}\", Target=\"integrations/5d419ue\")"
   ]
  },
  {
   "cell_type": "code",
   "execution_count": null,
   "metadata": {},
   "outputs": [],
   "source": []
  }
 ],
 "metadata": {
  "kernelspec": {
   "display_name": "Python 3",
   "language": "python",
   "name": "python3"
  },
  "language_info": {
   "codemirror_mode": {
    "name": "ipython",
    "version": 3
   },
   "file_extension": ".py",
   "mimetype": "text/x-python",
   "name": "python",
   "nbconvert_exporter": "python",
   "pygments_lexer": "ipython3",
   "version": "3.8.5"
  }
 },
 "nbformat": 4,
 "nbformat_minor": 4
}
