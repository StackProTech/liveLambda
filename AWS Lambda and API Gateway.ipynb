{
 "cells": [
  {
   "cell_type": "code",
   "execution_count": 1,
   "metadata": {},
   "outputs": [],
   "source": [
    "import boto3"
   ]
  },
  {
   "cell_type": "code",
   "execution_count": 2,
   "metadata": {},
   "outputs": [
    {
     "data": {
      "text/plain": [
       "['DEFAULT_SESSION',\n",
       " 'NullHandler',\n",
       " 'Session',\n",
       " '__author__',\n",
       " '__builtins__',\n",
       " '__cached__',\n",
       " '__doc__',\n",
       " '__file__',\n",
       " '__loader__',\n",
       " '__name__',\n",
       " '__package__',\n",
       " '__path__',\n",
       " '__spec__',\n",
       " '__version__',\n",
       " '_get_default_session',\n",
       " '_warn_deprecated_python',\n",
       " 'client',\n",
       " 'compat',\n",
       " 'docs',\n",
       " 'exceptions',\n",
       " 'logging',\n",
       " 'resource',\n",
       " 'resources',\n",
       " 'session',\n",
       " 'set_stream_logger',\n",
       " 'setup_default_session',\n",
       " 'utils']"
      ]
     },
     "execution_count": 2,
     "metadata": {},
     "output_type": "execute_result"
    }
   ],
   "source": [
    "dir(boto3)"
   ]
  },
  {
   "cell_type": "code",
   "execution_count": 3,
   "metadata": {},
   "outputs": [],
   "source": [
    "client = boto3.client('lambda')"
   ]
  },
  {
   "cell_type": "code",
   "execution_count": 4,
   "metadata": {},
   "outputs": [],
   "source": [
    "from datetime import datetime"
   ]
  },
  {
   "cell_type": "code",
   "execution_count": 5,
   "metadata": {},
   "outputs": [
    {
     "data": {
      "text/plain": [
       "'1621528844-77525'"
      ]
     },
     "execution_count": 5,
     "metadata": {},
     "output_type": "execute_result"
    }
   ],
   "source": [
    "now = datetime.now()\n",
    "now = now.timestamp()\n",
    "now = str(now)\n",
    "now = now.replace(\".\", \"-\")\n",
    "now"
   ]
  },
  {
   "cell_type": "code",
   "execution_count": 6,
   "metadata": {},
   "outputs": [],
   "source": [
    "import base64"
   ]
  },
  {
   "cell_type": "code",
   "execution_count": 7,
   "metadata": {},
   "outputs": [],
   "source": [
    "file = open('./liveLambda.zip', 'rb')\n",
    "file = file.read()"
   ]
  },
  {
   "cell_type": "code",
   "execution_count": 8,
   "metadata": {},
   "outputs": [],
   "source": [
    "arn = 'arn:aws:iam::734310663973:role/lambda_role'\n",
    "lambdaClient = client.create_function(FunctionName='permission', Runtime='python3.8', Role=arn, Handler='app.lambda_handler', Code={'ZipFile' : file}, Publish=True, PackageType='Zip')"
   ]
  },
  {
   "cell_type": "code",
   "execution_count": 9,
   "metadata": {},
   "outputs": [
    {
     "data": {
      "text/plain": [
       "{'ResponseMetadata': {'RequestId': 'b3d30d9b-a91a-44ac-9353-56cb2e61a5f0',\n",
       "  'HTTPStatusCode': 201,\n",
       "  'HTTPHeaders': {'date': 'Thu, 20 May 2021 16:41:01 GMT',\n",
       "   'content-type': 'application/json',\n",
       "   'content-length': '870',\n",
       "   'connection': 'keep-alive',\n",
       "   'x-amzn-requestid': 'b3d30d9b-a91a-44ac-9353-56cb2e61a5f0'},\n",
       "  'RetryAttempts': 0},\n",
       " 'FunctionName': 'permission',\n",
       " 'FunctionArn': 'arn:aws:lambda:ap-south-1:734310663973:function:permission',\n",
       " 'Runtime': 'python3.8',\n",
       " 'Role': 'arn:aws:iam::734310663973:role/lambda_role',\n",
       " 'Handler': 'app.lambda_handler',\n",
       " 'CodeSize': 2722,\n",
       " 'Description': '',\n",
       " 'Timeout': 3,\n",
       " 'MemorySize': 128,\n",
       " 'LastModified': '2021-05-20T16:41:00.912+0000',\n",
       " 'CodeSha256': 'wzwsfMW/bqwx0I+10reiqu0EKRPM4DuzS+YGOcm+19w=',\n",
       " 'Version': '2',\n",
       " 'TracingConfig': {'Mode': 'PassThrough'},\n",
       " 'RevisionId': '339284c2-5cd7-4340-b60e-ab2811dee207',\n",
       " 'State': 'Active',\n",
       " 'LastUpdateStatus': 'Successful',\n",
       " 'PackageType': 'Zip'}"
      ]
     },
     "execution_count": 9,
     "metadata": {},
     "output_type": "execute_result"
    }
   ],
   "source": [
    "lambdaClient"
   ]
  },
  {
   "cell_type": "code",
   "execution_count": 10,
   "metadata": {},
   "outputs": [],
   "source": [
    "response = client.add_permission(FunctionName=\"permission\", Principal=\"apigateway.amazonaws.com\", Action=\"lambda:InvokeFunction\",StatementId=now)"
   ]
  },
  {
   "cell_type": "code",
   "execution_count": null,
   "metadata": {},
   "outputs": [],
   "source": []
  },
  {
   "cell_type": "code",
   "execution_count": null,
   "metadata": {},
   "outputs": [],
   "source": []
  },
  {
   "cell_type": "code",
   "execution_count": null,
   "metadata": {},
   "outputs": [],
   "source": []
  },
  {
   "cell_type": "code",
   "execution_count": null,
   "metadata": {},
   "outputs": [],
   "source": [
    "response = client.invoke(FunctionName='testing_funtion', InvocationType='RequestResponse', LogType='Tail')"
   ]
  },
  {
   "cell_type": "code",
   "execution_count": null,
   "metadata": {},
   "outputs": [],
   "source": [
    "response"
   ]
  },
  {
   "cell_type": "code",
   "execution_count": null,
   "metadata": {},
   "outputs": [],
   "source": [
    "response['Payload'].read()"
   ]
  },
  {
   "cell_type": "code",
   "execution_count": null,
   "metadata": {},
   "outputs": [],
   "source": [
    "base64.b64decode(response['LogResult'])"
   ]
  },
  {
   "cell_type": "code",
   "execution_count": null,
   "metadata": {},
   "outputs": [],
   "source": []
  },
  {
   "cell_type": "code",
   "execution_count": 11,
   "metadata": {},
   "outputs": [],
   "source": [
    "gateway_client = boto3.client('apigateway')"
   ]
  },
  {
   "cell_type": "code",
   "execution_count": 12,
   "metadata": {},
   "outputs": [
    {
     "data": {
      "text/plain": [
       "{'ResponseMetadata': {'RequestId': 'f8c07cd9-8468-4caa-964e-988b9eeda233',\n",
       "  'HTTPStatusCode': 200,\n",
       "  'HTTPHeaders': {'date': 'Thu, 20 May 2021 16:42:11 GMT',\n",
       "   'content-type': 'application/json',\n",
       "   'content-length': '12',\n",
       "   'connection': 'keep-alive',\n",
       "   'x-amzn-requestid': 'f8c07cd9-8468-4caa-964e-988b9eeda233',\n",
       "   'x-amz-apigw-id': 'foungKrOhcwEb2A='},\n",
       "  'RetryAttempts': 0},\n",
       " 'items': []}"
      ]
     },
     "execution_count": 12,
     "metadata": {},
     "output_type": "execute_result"
    }
   ],
   "source": [
    "gateway_client.get_rest_apis()"
   ]
  },
  {
   "cell_type": "code",
   "execution_count": null,
   "metadata": {},
   "outputs": [],
   "source": [
    "client = boto3.client('apigateway')"
   ]
  },
  {
   "cell_type": "code",
   "execution_count": null,
   "metadata": {},
   "outputs": [],
   "source": []
  },
  {
   "cell_type": "code",
   "execution_count": null,
   "metadata": {},
   "outputs": [],
   "source": [
    "import boto3"
   ]
  },
  {
   "cell_type": "code",
   "execution_count": 13,
   "metadata": {},
   "outputs": [],
   "source": [
    "api_gateway_client = boto3.client('apigatewayv2')\n",
    "function_arn = \"arn:aws:lambda:ap-south-1:734310663973:function:permission\""
   ]
  },
  {
   "cell_type": "code",
   "execution_count": 14,
   "metadata": {},
   "outputs": [
    {
     "data": {
      "text/plain": [
       "{'ResponseMetadata': {'RequestId': '630b0020-e5e6-426f-9297-7082a4358292',\n",
       "  'HTTPStatusCode': 201,\n",
       "  'HTTPHeaders': {'date': 'Thu, 20 May 2021 16:42:58 GMT',\n",
       "   'content-type': 'application/json',\n",
       "   'content-length': '323',\n",
       "   'connection': 'keep-alive',\n",
       "   'x-amzn-requestid': '630b0020-e5e6-426f-9297-7082a4358292',\n",
       "   'access-control-allow-origin': '*',\n",
       "   'x-amz-apigw-id': 'fouuzE-khcwFpkQ=',\n",
       "   'access-control-expose-headers': 'x-amzn-RequestId,x-amzn-ErrorType,x-amzn-ErrorMessage,Date',\n",
       "   'x-amzn-trace-id': 'Root=1-60a69191-25e5958b02ba390838851405'},\n",
       "  'RetryAttempts': 0},\n",
       " 'ApiEndpoint': 'https://b67qu5con0.execute-api.ap-south-1.amazonaws.com',\n",
       " 'ApiId': 'b67qu5con0',\n",
       " 'ApiKeySelectionExpression': '$request.header.x-api-key',\n",
       " 'CreatedDate': datetime.datetime(2021, 5, 20, 16, 42, 58, tzinfo=tzutc()),\n",
       " 'DisableExecuteApiEndpoint': False,\n",
       " 'Name': 'script_made',\n",
       " 'ProtocolType': 'HTTP',\n",
       " 'RouteSelectionExpression': '$request.method $request.path'}"
      ]
     },
     "execution_count": 14,
     "metadata": {},
     "output_type": "execute_result"
    }
   ],
   "source": [
    "api_gateway_client.create_api(Name=\"script_made\", ProtocolType=\"HTTP\", Target=function_arn, RouteKey=\"GET /\")"
   ]
  },
  {
   "cell_type": "code",
   "execution_count": 15,
   "metadata": {},
   "outputs": [
    {
     "data": {
      "text/plain": [
       "{'ResponseMetadata': {'RequestId': 'e99c02aa-64f4-47e9-a9c2-80a8fe21c3c0',\n",
       "  'HTTPStatusCode': 201,\n",
       "  'HTTPHeaders': {'date': 'Thu, 20 May 2021 16:43:07 GMT',\n",
       "   'content-type': 'application/json',\n",
       "   'content-length': '254',\n",
       "   'connection': 'keep-alive',\n",
       "   'x-amzn-requestid': 'e99c02aa-64f4-47e9-a9c2-80a8fe21c3c0',\n",
       "   'access-control-allow-origin': '*',\n",
       "   'x-amz-apigw-id': 'fouwWGmgBcwFZsQ=',\n",
       "   'access-control-expose-headers': 'x-amzn-RequestId,x-amzn-ErrorType,x-amzn-ErrorMessage,Date',\n",
       "   'x-amzn-trace-id': 'Root=1-60a6919b-34996a4019f6a9eb008df420'},\n",
       "  'RetryAttempts': 0},\n",
       " 'ConnectionType': 'INTERNET',\n",
       " 'IntegrationId': '683s4ut',\n",
       " 'IntegrationMethod': 'GET',\n",
       " 'IntegrationType': 'AWS_PROXY',\n",
       " 'IntegrationUri': 'arn:aws:lambda:ap-south-1:734310663973:function:writups_central_lambda',\n",
       " 'PayloadFormatVersion': '2.0',\n",
       " 'TimeoutInMillis': 30000}"
      ]
     },
     "execution_count": 15,
     "metadata": {},
     "output_type": "execute_result"
    }
   ],
   "source": [
    "api_gateway_client.create_integration(ApiId=\"b67qu5con0\", IntegrationMethod=\"GET\", IntegrationType=\"AWS_PROXY\", IntegrationUri=\"arn:aws:lambda:ap-south-1:734310663973:function:writups_central_lambda\", PayloadFormatVersion=\"2.0\")"
   ]
  },
  {
   "cell_type": "code",
   "execution_count": 17,
   "metadata": {},
   "outputs": [
    {
     "data": {
      "text/plain": [
       "{'ResponseMetadata': {'RequestId': '6f48a5ed-861a-4283-a496-8c024e884c48',\n",
       "  'HTTPStatusCode': 201,\n",
       "  'HTTPHeaders': {'date': 'Thu, 20 May 2021 16:43:27 GMT',\n",
       "   'content-type': 'application/json',\n",
       "   'content-length': '134',\n",
       "   'connection': 'keep-alive',\n",
       "   'x-amzn-requestid': '6f48a5ed-861a-4283-a496-8c024e884c48',\n",
       "   'access-control-allow-origin': '*',\n",
       "   'x-amz-apigw-id': 'fouzcH-DhcwFYoQ=',\n",
       "   'access-control-expose-headers': 'x-amzn-RequestId,x-amzn-ErrorType,x-amzn-ErrorMessage,Date',\n",
       "   'x-amzn-trace-id': 'Root=1-60a691af-0b4a7c9e7a6951af4ca1b773'},\n",
       "  'RetryAttempts': 0},\n",
       " 'ApiKeyRequired': False,\n",
       " 'AuthorizationType': 'NONE',\n",
       " 'RouteId': 'hjd2sim',\n",
       " 'RouteKey': 'POST /script/{id}',\n",
       " 'Target': 'integrations/683s4ut'}"
      ]
     },
     "execution_count": 17,
     "metadata": {},
     "output_type": "execute_result"
    }
   ],
   "source": [
    "api_gateway_client.create_route(ApiId=\"b67qu5con0\", RouteKey=\"POST /script/{id}\", Target=\"integrations/683s4ut\")"
   ]
  },
  {
   "cell_type": "code",
   "execution_count": null,
   "metadata": {},
   "outputs": [],
   "source": []
  }
 ],
 "metadata": {
  "kernelspec": {
   "display_name": "Python 3",
   "language": "python",
   "name": "python3"
  },
  "language_info": {
   "codemirror_mode": {
    "name": "ipython",
    "version": 3
   },
   "file_extension": ".py",
   "mimetype": "text/x-python",
   "name": "python",
   "nbconvert_exporter": "python",
   "pygments_lexer": "ipython3",
   "version": "3.8.5"
  }
 },
 "nbformat": 4,
 "nbformat_minor": 4
}
